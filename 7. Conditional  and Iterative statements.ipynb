{
 "cells": [
  {
   "cell_type": "markdown",
   "metadata": {},
   "source": [
    "# Conditional statement"
   ]
  },
  {
   "cell_type": "markdown",
   "metadata": {},
   "source": [
    "This statement deside the execution of a block of code based on expression/condition.\n",
    "condition statement returns True / False.\n",
    "python supports 4 types of condiitonal statements\n",
    "1. simple if/ if statement\n",
    "2. if -else\n",
    "3. if else if (elif)\n",
    "4. nested if "
   ]
  },
  {
   "cell_type": "markdown",
   "metadata": {},
   "source": [
    "# if statement -- if condition true only it executes the value\n",
    "syntax:\n",
    "if condition:\n",
    "    print(statement)\n"
   ]
  },
  {
   "cell_type": "markdown",
   "metadata": {},
   "source": [
    "### Write a python program to read the marks from keyboard and say whether he is passed "
   ]
  },
  {
   "cell_type": "code",
   "execution_count": 1,
   "metadata": {},
   "outputs": [
    {
     "name": "stdout",
     "output_type": "stream",
     "text": [
      "enter the marks36\n",
      "passed the exam \n",
      "\n"
     ]
    }
   ],
   "source": [
    "marks=int(input('enter the marks'))\n",
    "if marks>=35:\n",
    "    print('passed the exam \\n') "
   ]
  },
  {
   "cell_type": "code",
   "execution_count": 2,
   "metadata": {},
   "outputs": [
    {
     "name": "stdout",
     "output_type": "stream",
     "text": [
      "False\n"
     ]
    }
   ],
   "source": [
    "# zero indicates false means we are informing the if condition the condition itself is false\n",
    "if 0:\n",
    "    print(\"True\")\n",
    "print(\"False\")"
   ]
  },
  {
   "cell_type": "code",
   "execution_count": 3,
   "metadata": {},
   "outputs": [
    {
     "name": "stdout",
     "output_type": "stream",
     "text": [
      "True\n"
     ]
    }
   ],
   "source": [
    "# one indicates True condiiton we are informing the machine the condition is returing True\n",
    "if 1:\n",
    "    print(\"True\")\n"
   ]
  },
  {
   "cell_type": "code",
   "execution_count": 4,
   "metadata": {},
   "outputs": [
    {
     "name": "stdout",
     "output_type": "stream",
     "text": [
      "True\n"
     ]
    }
   ],
   "source": [
    "# minus indicates also True condiiton we are informing the machine the condition is returing True\n",
    "if -1:\n",
    "    print(\"True\")\n"
   ]
  },
  {
   "cell_type": "markdown",
   "metadata": {},
   "source": [
    "# if else"
   ]
  },
  {
   "cell_type": "raw",
   "metadata": {},
   "source": [
    "# syntax:\n",
    "if condition: ## true\n",
    "    print(statement)\n",
    "else:           \n",
    "    print(stmt)"
   ]
  },
  {
   "cell_type": "markdown",
   "metadata": {},
   "source": [
    "## Write a python program to read the marks from keyboard and say whether he is passed or failed"
   ]
  },
  {
   "cell_type": "code",
   "execution_count": 5,
   "metadata": {},
   "outputs": [
    {
     "name": "stdout",
     "output_type": "stream",
     "text": [
      "enter the marks34\n",
      "you are failed\n"
     ]
    }
   ],
   "source": [
    "marks=int(input('enter the marks'))\n",
    "if marks >=35:\n",
    "    print('you are passed')\n",
    "else:\n",
    "    print('you are failed')"
   ]
  },
  {
   "cell_type": "markdown",
   "metadata": {},
   "source": [
    "## Write a python program to check given number is even or odd"
   ]
  },
  {
   "cell_type": "code",
   "execution_count": 6,
   "metadata": {},
   "outputs": [
    {
     "name": "stdout",
     "output_type": "stream",
     "text": [
      "odd number\n",
      "\n"
     ]
    }
   ],
   "source": [
    "number=3\n",
    "if number%2==0:\n",
    "    print('even number\\n')\n",
    "else:\n",
    "    print('odd number\\n')"
   ]
  },
  {
   "cell_type": "markdown",
   "metadata": {},
   "source": [
    "# if else if or elif"
   ]
  },
  {
   "cell_type": "raw",
   "metadata": {},
   "source": [
    "#syntax\n",
    "if condition:\n",
    "    print\n",
    "else if condiiton : ## elif we write instead of elseif \n",
    "    print\n",
    "else\n",
    "   print"
   ]
  },
  {
   "cell_type": "markdown",
   "metadata": {},
   "source": [
    "## Find a maximum value between three given numbers"
   ]
  },
  {
   "cell_type": "code",
   "execution_count": 7,
   "metadata": {},
   "outputs": [
    {
     "name": "stdout",
     "output_type": "stream",
     "text": [
      "enter a value3\n",
      "enter b value2\n",
      "enter c value1\n",
      "a is bigger 3\n"
     ]
    }
   ],
   "source": [
    "a=int(input('enter a value'))\n",
    "b=int(input('enter b value'))\n",
    "c=int(input('enter c value'))\n",
    "if(a>b and a>c):\n",
    "    print('a is bigger',a)\n",
    "elif(b>c):\n",
    "    print('b value',b)\n",
    "else:\n",
    "    print('c value',c)"
   ]
  },
  {
   "cell_type": "markdown",
   "metadata": {},
   "source": [
    "# nested if statement:"
   ]
  },
  {
   "cell_type": "raw",
   "metadata": {},
   "source": [
    " -- if statement is in another if statement \n",
    "if condition:\n",
    "    if condiiton:\n",
    "        if condition:\n",
    "            print\n",
    "        else\n",
    "            print\n",
    "    else\n",
    "        print\n",
    "else\n",
    "    print"
   ]
  },
  {
   "cell_type": "code",
   "execution_count": 11,
   "metadata": {},
   "outputs": [
    {
     "name": "stdout",
     "output_type": "stream",
     "text": [
      "Score validated for English. Your total is:  88\n"
     ]
    }
   ],
   "source": [
    "coursework = \"English\"\n",
    "score_theory = 53\n",
    "score_practical = 35\n",
    "\n",
    "if(coursework == \"Science\" or coursework == \"science\"):\n",
    "    if(score_theory > 50):\n",
    "        print(\"Please check the input score for 'Science: Theory'.\")\n",
    "    elif(score_practical > 50):\n",
    "            print(\"Please check the input score for 'Science: Practical'.\")  \n",
    "    else:\n",
    "        print(\"Score validated for Science. Your total is: \",score_theory + score_practical)             \n",
    "elif(coursework == \"English\" or coursework == \"english\"):\n",
    "    if(score_theory > 60):\n",
    "        print(\"Please check the input score for 'English: Theory'.\")\n",
    "    elif(score_practical > 40):\n",
    "            print(\"Please check the input score for 'English: Practical'.\")  \n",
    "    else:\n",
    "        print(\"Score validated for English. Your total is: \",score_theory + score_practical)\n",
    "else: print(\"Coursework not recognised. Please enter score for either Science or English.\")"
   ]
  },
  {
   "cell_type": "markdown",
   "metadata": {},
   "source": [
    "# iterative statements"
   ]
  },
  {
   "cell_type": "code",
   "execution_count": null,
   "metadata": {},
   "outputs": [],
   "source": [
    "## for loop : a code block is repeated a certain number of times"
   ]
  },
  {
   "cell_type": "markdown",
   "metadata": {},
   "source": [
    "## for loop on a string"
   ]
  },
  {
   "cell_type": "code",
   "execution_count": 12,
   "metadata": {},
   "outputs": [
    {
     "data": {
      "text/plain": [
       "'python developer'"
      ]
     },
     "execution_count": 12,
     "metadata": {},
     "output_type": "execute_result"
    }
   ],
   "source": [
    "a='python developer'\n",
    "a"
   ]
  },
  {
   "cell_type": "code",
   "execution_count": 13,
   "metadata": {},
   "outputs": [
    {
     "name": "stdout",
     "output_type": "stream",
     "text": [
      "p\n",
      "y\n",
      "t\n",
      "h\n",
      "o\n",
      "n\n",
      " \n",
      "d\n",
      "e\n",
      "v\n",
      "e\n",
      "l\n",
      "o\n",
      "p\n",
      "e\n",
      "r\n"
     ]
    }
   ],
   "source": [
    "for i in a:\n",
    "    print(i)"
   ]
  },
  {
   "cell_type": "code",
   "execution_count": 14,
   "metadata": {},
   "outputs": [
    {
     "name": "stdout",
     "output_type": "stream",
     "text": [
      "python developer"
     ]
    }
   ],
   "source": [
    "#using end in print statement\n",
    "for i in a:\n",
    "    print(i, end='')"
   ]
  },
  {
   "cell_type": "markdown",
   "metadata": {},
   "source": [
    "# for loop on list object"
   ]
  },
  {
   "cell_type": "code",
   "execution_count": 15,
   "metadata": {},
   "outputs": [
    {
     "name": "stdout",
     "output_type": "stream",
     "text": [
      "1\n",
      "2\n",
      "1.5\n",
      "python\n",
      "True\n",
      "(10+3j)\n"
     ]
    }
   ],
   "source": [
    "b=[1,2,1.5,'python',True,10+3j]\n",
    "for i in b:\n",
    "    print(i)"
   ]
  },
  {
   "cell_type": "markdown",
   "metadata": {},
   "source": [
    "# for loop of tuple "
   ]
  },
  {
   "cell_type": "code",
   "execution_count": 16,
   "metadata": {},
   "outputs": [
    {
     "name": "stdout",
     "output_type": "stream",
     "text": [
      "1\n",
      "2\n",
      "3\n",
      "1.5\n"
     ]
    }
   ],
   "source": [
    "c=(1,2,3,1.5)\n",
    "for i in c:\n",
    "    print(i)"
   ]
  },
  {
   "cell_type": "markdown",
   "metadata": {},
   "source": [
    "# for loop on set"
   ]
  },
  {
   "cell_type": "code",
   "execution_count": null,
   "metadata": {},
   "outputs": [],
   "source": [
    "s={1,2,3,'python'}\n",
    "for i in s:\n",
    "    print(i)"
   ]
  },
  {
   "cell_type": "markdown",
   "metadata": {},
   "source": [
    "# for loop on dictionary"
   ]
  },
  {
   "cell_type": "code",
   "execution_count": null,
   "metadata": {},
   "outputs": [],
   "source": [
    "d={1:'abc',2:'def'}\n",
    "for i in d:\n",
    "    print(i)"
   ]
  },
  {
   "cell_type": "markdown",
   "metadata": {},
   "source": [
    "# displaying 10th table by  using range function"
   ]
  },
  {
   "cell_type": "code",
   "execution_count": 19,
   "metadata": {},
   "outputs": [
    {
     "data": {
      "text/plain": [
       "[0]"
      ]
     },
     "execution_count": 19,
     "metadata": {},
     "output_type": "execute_result"
    }
   ],
   "source": [
    "list(range(1))"
   ]
  },
  {
   "cell_type": "code",
   "execution_count": 20,
   "metadata": {},
   "outputs": [
    {
     "name": "stdout",
     "output_type": "stream",
     "text": [
      "10 * 1 = 10\n",
      "10 * 2 = 20\n",
      "10 * 3 = 30\n",
      "10 * 4 = 40\n",
      "10 * 5 = 50\n",
      "10 * 6 = 60\n",
      "10 * 7 = 70\n",
      "10 * 8 = 80\n",
      "10 * 9 = 90\n",
      "10 * 10 = 100\n"
     ]
    }
   ],
   "source": [
    "for i in range(1,11):\n",
    "    r=10*i\n",
    "    print('10','*',i,'=',r)"
   ]
  },
  {
   "cell_type": "markdown",
   "metadata": {},
   "source": [
    "# for loop with else:"
   ]
  },
  {
   "cell_type": "code",
   "execution_count": 21,
   "metadata": {},
   "outputs": [
    {
     "name": "stdout",
     "output_type": "stream",
     "text": [
      "reddy\n",
      "python\n",
      "100\n",
      "True\n",
      "specified list length is 4\n"
     ]
    }
   ],
   "source": [
    "li=['reddy','python',100,True]\n",
    "for i in li:\n",
    "    print(i)\n",
    "else:\n",
    "    print(\"specified list length is\",len(li))"
   ]
  },
  {
   "cell_type": "markdown",
   "metadata": {},
   "source": [
    "# for loop with if and else part"
   ]
  },
  {
   "cell_type": "code",
   "execution_count": 22,
   "metadata": {},
   "outputs": [
    {
     "name": "stdout",
     "output_type": "stream",
     "text": [
      "value is samller than 5\n",
      "value is samller than 5\n",
      "value is samller than 5\n",
      "value is samller than 5\n",
      "value is samller than 5\n",
      "value is bigger than 5\n",
      "value is bigger than 5\n"
     ]
    }
   ],
   "source": [
    "li=[1,2,3,4,5,6,7]\n",
    "for i in li:\n",
    "    if(i > 5):\n",
    "        print('value is bigger than 5')\n",
    "    else:\n",
    "        print('value is samller than 5')"
   ]
  },
  {
   "cell_type": "markdown",
   "metadata": {},
   "source": [
    "# while loop "
   ]
  },
  {
   "cell_type": "raw",
   "metadata": {},
   "source": [
    "repeatedly executes a target stmt as long as condition is true"
   ]
  },
  {
   "cell_type": "raw",
   "metadata": {},
   "source": [
    "## syntax\n",
    "while condition: #true\n",
    "    stmt\n",
    "    stmt\n",
    "    stmt"
   ]
  },
  {
   "cell_type": "markdown",
   "metadata": {},
   "source": [
    "# display first 5 numbers"
   ]
  },
  {
   "cell_type": "code",
   "execution_count": 23,
   "metadata": {},
   "outputs": [
    {
     "name": "stdout",
     "output_type": "stream",
     "text": [
      "the count is: 1\n",
      "the count is: 2\n",
      "the count is: 3\n",
      "the count is: 4\n",
      "the count is: 5\n"
     ]
    }
   ],
   "source": [
    "num=1\n",
    "while(num<=5):\n",
    "    print(\"the count is:\",num)\n",
    "    num+=1 ## a=a+b  --> a+=b"
   ]
  },
  {
   "cell_type": "markdown",
   "metadata": {},
   "source": [
    "# display the squares of first 10 numbers"
   ]
  },
  {
   "cell_type": "code",
   "execution_count": 27,
   "metadata": {},
   "outputs": [
    {
     "name": "stdout",
     "output_type": "stream",
     "text": [
      "the squares: 1\n",
      "the squares: 4\n",
      "the squares: 9\n",
      "the squares: 16\n",
      "the squares: 25\n",
      "the squares: 36\n",
      "the squares: 49\n",
      "the squares: 64\n",
      "the squares: 81\n",
      "the squares: 100\n"
     ]
    }
   ],
   "source": [
    "num=1\n",
    "while(num<=10):\n",
    "    print(\"the squares:\",num*num)\n",
    "    num+=1"
   ]
  },
  {
   "cell_type": "code",
   "execution_count": 30,
   "metadata": {},
   "outputs": [
    {
     "name": "stdout",
     "output_type": "stream",
     "text": [
      "55\n"
     ]
    }
   ],
   "source": [
    "## sum of first 10 number  1+2+3+..10\n",
    "l=list(range(1,11))\n",
    "sum=0\n",
    "index=0\n",
    "while index<len(l):\n",
    "    sum+=l[index]\n",
    "    index+=1\n",
    "print(sum)"
   ]
  },
  {
   "cell_type": "code",
   "execution_count": 33,
   "metadata": {},
   "outputs": [
    {
     "name": "stdout",
     "output_type": "stream",
     "text": [
      "all elements sum done, the sum is 55\n"
     ]
    }
   ],
   "source": [
    "## sum of first 10 number  1+2+3+..10 using else\n",
    "l=list(range(1,11))\n",
    "sum=0\n",
    "index=0\n",
    "while index<len(l):\n",
    "    sum+=l[index]\n",
    "    index+=1\n",
    "\n",
    "else:\n",
    "    print(\"all elements sum done, the sum is\",sum)"
   ]
  },
  {
   "cell_type": "markdown",
   "metadata": {},
   "source": [
    "# python program to check whether user input number is prime or not"
   ]
  },
  {
   "cell_type": "code",
   "execution_count": 38,
   "metadata": {},
   "outputs": [
    {
     "name": "stdout",
     "output_type": "stream",
     "text": [
      "enter number4\n",
      " 4 is divisble by 2\n"
     ]
    },
    {
     "ename": "KeyboardInterrupt",
     "evalue": "",
     "output_type": "error",
     "traceback": [
      "\u001b[1;31m---------------------------------------------------------------------------\u001b[0m",
      "\u001b[1;31mKeyboardInterrupt\u001b[0m                         Traceback (most recent call last)",
      "Input \u001b[1;32mIn [38]\u001b[0m, in \u001b[0;36m<cell line: 4>\u001b[1;34m()\u001b[0m\n\u001b[0;32m      3\u001b[0m i\u001b[38;5;241m=\u001b[39m\u001b[38;5;241m2\u001b[39m\n\u001b[0;32m      4\u001b[0m \u001b[38;5;28;01mwhile\u001b[39;00m i\u001b[38;5;241m<\u001b[39m number:\n\u001b[1;32m----> 5\u001b[0m     \u001b[38;5;28;01mif\u001b[39;00m number\u001b[38;5;241m%\u001b[39m\u001b[43mi\u001b[49m\u001b[38;5;241m==\u001b[39m\u001b[38;5;241m0\u001b[39m:\n\u001b[0;32m      6\u001b[0m         divisiblenumber\u001b[38;5;241m=\u001b[39m\u001b[38;5;28;01mTrue\u001b[39;00m\n\u001b[0;32m      7\u001b[0m         \u001b[38;5;28mprint\u001b[39m(\u001b[38;5;124m\"\u001b[39m\u001b[38;5;124m \u001b[39m\u001b[38;5;132;01m{}\u001b[39;00m\u001b[38;5;124m is divisble by \u001b[39m\u001b[38;5;132;01m{}\u001b[39;00m\u001b[38;5;124m\"\u001b[39m\u001b[38;5;241m.\u001b[39mformat(number,i))\n",
      "\u001b[1;31mKeyboardInterrupt\u001b[0m: "
     ]
    }
   ],
   "source": [
    "number=int(input(\"enter number\"))\n",
    "divisiblenumber=False\n",
    "i=2\n",
    "while i< number:\n",
    "    if number%i==0:\n",
    "        divisiblenumber=True\n",
    "        print(\" {} is divisble by {}\".format(number,i))\n",
    "        i+=1\n",
    "if divisblenumber:\n",
    "    print(\"{} Not a Prime Number\".format(number))\n",
    "else:\n",
    "    print(\"{} Prime Number\".format(number))"
   ]
  },
  {
   "cell_type": "code",
   "execution_count": null,
   "metadata": {},
   "outputs": [],
   "source": []
  }
 ],
 "metadata": {
  "kernelspec": {
   "display_name": "Python 3 (ipykernel)",
   "language": "python",
   "name": "python3"
  },
  "language_info": {
   "codemirror_mode": {
    "name": "ipython",
    "version": 3
   },
   "file_extension": ".py",
   "mimetype": "text/x-python",
   "name": "python",
   "nbconvert_exporter": "python",
   "pygments_lexer": "ipython3",
   "version": "3.9.12"
  }
 },
 "nbformat": 4,
 "nbformat_minor": 2
}
