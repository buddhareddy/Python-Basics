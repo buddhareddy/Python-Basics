{
 "cells": [
  {
   "cell_type": "markdown",
   "metadata": {},
   "source": [
    "# Operators"
   ]
  },
  {
   "cell_type": "markdown",
   "metadata": {},
   "source": [
    "Operators are special symbols in Python that carry out arithmetic or logical computation. The value that the operator operates on is called the operand."
   ]
  },
  {
   "cell_type": "markdown",
   "metadata": {},
   "source": [
    "# Operator Types"
   ]
  },
  {
   "cell_type": "markdown",
   "metadata": {},
   "source": [
    "1. Arithmetic operators\n",
    "    \n",
    "2. Comparison (Relational) operators\n",
    "\n",
    "3. Logical (Boolean) operators\n",
    "\n",
    "4. Bitwise operators\n",
    "\n",
    "5. Assignment operators\n",
    "\n",
    "6. Special operators"
   ]
  },
  {
   "cell_type": "markdown",
   "metadata": {},
   "source": [
    "# Arithmetic Operators"
   ]
  },
  {
   "cell_type": "markdown",
   "metadata": {},
   "source": [
    "Arithmetic operators are used to perform mathematical operations like addition, subtraction, multiplication etc."
   ]
  },
  {
   "cell_type": "markdown",
   "metadata": {},
   "source": [
    "    + , -, *, /, %, //, **  are arithmetic operators"
   ]
  },
  {
   "cell_type": "markdown",
   "metadata": {},
   "source": [
    "Example:"
   ]
  },
  {
   "cell_type": "code",
   "execution_count": 1,
   "metadata": {},
   "outputs": [
    {
     "name": "stdout",
     "output_type": "stream",
     "text": [
      "addition 30\n",
      "subtraction -10\n",
      "multiplication 200\n",
      "division 8.333333333333334\n",
      "modulous 0\n",
      "floor division 6\n",
      "floor division -7\n",
      "exponent 8\n"
     ]
    }
   ],
   "source": [
    "x, y = 10, 20\n",
    "\n",
    "\n",
    "print(\"addition\",x + y)                 #addition\n",
    "print(\"subtraction\",x - y)              #subtraction(-) \n",
    "print(\"multiplication\",x * y)           #multiplication(*)\n",
    "print(\"division\",25/3)                  #division(/)\n",
    "print(\"modulous\",y%x)                   #modulo division (%)\n",
    "print(\"floor division\", 20//3)           #Floor Division (//)\n",
    "print(\"floor division\", -20//3)\n",
    "print(\"exponent\", 2**3)                  #Exponent (**)"
   ]
  },
  {
   "cell_type": "markdown",
   "metadata": {},
   "source": [
    "# Comparision Operators"
   ]
  },
  {
   "cell_type": "markdown",
   "metadata": {},
   "source": [
    "Comparison operators are used to compare values. It either returns True or False according to the condition."
   ]
  },
  {
   "cell_type": "markdown",
   "metadata": {},
   "source": [
    "    >, <, ==, !=, >=, <= are comparision operators"
   ]
  },
  {
   "cell_type": "code",
   "execution_count": 2,
   "metadata": {},
   "outputs": [
    {
     "name": "stdout",
     "output_type": "stream",
     "text": [
      "True\n",
      "False\n",
      "False\n",
      "True\n",
      "False\n",
      "True\n"
     ]
    }
   ],
   "source": [
    "a, b = 10, 20        # operator                            output\n",
    "\n",
    "print(a < b)    # a is less than b                           true\n",
    "\n",
    "print(a > b)    #a  is greater than b                      false\n",
    "\n",
    "print(a == b)   #a is equal to b                           false\n",
    "\n",
    "print(a != b)   #a is not equal to b (!=)                  True    \n",
    "\n",
    "print(a >=b )   # a greater than or equal to b              false\n",
    "\n",
    "print(a<=b)     #a less than or equal to b                  True\n"
   ]
  },
  {
   "cell_type": "markdown",
   "metadata": {},
   "source": [
    "# Logical Operators"
   ]
  },
  {
   "cell_type": "markdown",
   "metadata": {},
   "source": [
    "Logical operators are  **and, or, not** operators."
   ]
  },
  {
   "cell_type": "code",
   "execution_count": 3,
   "metadata": {},
   "outputs": [
    {
     "name": "stdout",
     "output_type": "stream",
     "text": [
      "a and b False\n",
      "a or b True\n",
      "not b True\n",
      "not a False\n"
     ]
    }
   ],
   "source": [
    "a, b = True, False\n",
    "#and  --- Logical operator AND returns True only if both the operands are True else it returns False. \n",
    "#It is a binary operator, which means to return some value, it has to be operated between two operators\n",
    "print(\"a and b\",a and b)\n",
    "\n",
    "#OR --- The logical operator OR returns False only if both the operands are False else it returns True.\n",
    "print(\"a or b\", a or b)\n",
    "# not ----\n",
    "print(\"not b\", not b)\n",
    "print(\"not a\", not a)"
   ]
  },
  {
   "cell_type": "markdown",
   "metadata": {},
   "source": [
    "# Bitwise operators"
   ]
  },
  {
   "cell_type": "markdown",
   "metadata": {},
   "source": [
    "Bitwise operators act on operands as if they were string of binary digits. It operates bit by bit"
   ]
  },
  {
   "cell_type": "markdown",
   "metadata": {},
   "source": [
    "    &,  |,  ~,  ^,  >>,  << are Bitwise operators"
   ]
  },
  {
   "cell_type": "code",
   "execution_count": 4,
   "metadata": {},
   "outputs": [
    {
     "name": "stdout",
     "output_type": "stream",
     "text": [
      "a & b 0\n",
      "c & b 4\n",
      "b |c------- 6\n",
      "a|b--------- 14\n",
      "a and ~a ----------- 10 -11\n",
      "a ^ b -------- 14\n",
      "right shift of 10 by 1----- 5\n",
      "left shift of 10 by 1----- 20\n"
     ]
    }
   ],
   "source": [
    "a, b,c = 10, 4,6\n",
    "\n",
    "#Bitwise AND\n",
    "#print(\"bit wise and \")\n",
    "print(\"a & b\",a & b) #1010 & 0100\n",
    "print(\"c & b\",c & b) #0110 & 0100\n",
    "\n",
    "#Bitwise OR\n",
    "#print(\"bit wise or\")\n",
    "print(\"b |c-------\",b | c)\n",
    "print(\"a|b---------\",a|b)\n",
    "\n",
    "#Bitwise NOT\n",
    "print(\"a and ~a -----------\",a,~a) \n",
    "#a is 1010 can written as 0000 1010  --> 1s complement 1111 0101 --> 2s complement -->1111 0110\n",
    "\n",
    "#Bitwise XOR   --> Returns 1 if one of the bits is 1 and the other is 0 else returns false.\n",
    "print(\"a ^ b --------\", a ^b)\n",
    "\n",
    "#Bitwise rightshift   --> Shifts the bits of the number to the right and fills 0 on voids left\n",
    "#( fills 1 in the case of a negative number) as a result. \n",
    "#Similar effect as of dividing the number with some power of two.\n",
    "\n",
    "print(\"right shift of 10 by 1-----\",a>>1)\n",
    "#Bitwise Leftshift\n",
    "print(\"left shift of 10 by 1-----\",a<<1)"
   ]
  },
  {
   "cell_type": "markdown",
   "metadata": {},
   "source": [
    "# Assignment operators"
   ]
  },
  {
   "cell_type": "markdown",
   "metadata": {},
   "source": [
    "Assignment operators are used in Python to assign values to variables.\n",
    "\n",
    "a = 5 is a simple assignment operator that assigns the value 5 on the right to the variable a on the left."
   ]
  },
  {
   "cell_type": "markdown",
   "metadata": {},
   "source": [
    "    =,  +=,  -=,  *=,  /=,  %=,  //=,  **=, &=,  |=,  ^=,  >>=,  <<= are Assignment operators"
   ]
  },
  {
   "cell_type": "code",
   "execution_count": 5,
   "metadata": {},
   "outputs": [
    {
     "name": "stdout",
     "output_type": "stream",
     "text": [
      "a+=10 value--- 20\n",
      "a-=10 value--- 0\n",
      "a*=10 value--- 100\n",
      "a/=10 value--- 1.0\n",
      "a%=10 value--- 0\n",
      "a//=10 value--- 1\n",
      "a**=10 value--- 10000000000\n"
     ]
    }
   ],
   "source": [
    "a = 10\n",
    "\n",
    "a+=10         #short end notation of a=a+10\n",
    "print(\"a+=10 value---\",a)\n",
    "\n",
    "#subtract AND (-=)\n",
    "a = 10 \n",
    "a-=10   # shotend notation of a=a-10\n",
    "print(\"a-=10 value---\",a)\n",
    "#Multiply AND (*=)\n",
    "a = 10 \n",
    "a*=10   # shotend notation of a=a*10\n",
    "print(\"a*=10 value---\",a)\n",
    "#Divide AND (/=)\n",
    "a = 10 \n",
    "a/=10   # shotend notation of a=a/10\n",
    "print(\"a/=10 value---\",a)\n",
    "#Modulus AND (%=)\n",
    "a = 10 \n",
    "a%=10   # shotend notation of a=a%10\n",
    "print(\"a%=10 value---\",a)\n",
    "#Floor Division (//=)\n",
    "a = 10 \n",
    "a//=10   # shotend notation of a=a//10\n",
    "print(\"a//=10 value---\",a)\n",
    "#Exponent AND (**=)\n",
    "a = 10 \n",
    "a**=10   # shotend notation of a=a**10\n",
    "print(\"a**=10 value---\",a)"
   ]
  },
  {
   "cell_type": "markdown",
   "metadata": {},
   "source": [
    "# Special Operators"
   ]
  },
  {
   "cell_type": "markdown",
   "metadata": {},
   "source": [
    "# Identity Operators"
   ]
  },
  {
   "cell_type": "markdown",
   "metadata": {},
   "source": [
    "**is and is not** are the identity operators in Python. \n",
    "\n",
    "They are used to check if two values (or variables) are located on the same part of the memory."
   ]
  },
  {
   "cell_type": "code",
   "execution_count": 6,
   "metadata": {},
   "outputs": [
    {
     "name": "stdout",
     "output_type": "stream",
     "text": [
      "True\n",
      "2542271293872 2542271293872 2542271293904\n",
      "True\n",
      "False\n"
     ]
    }
   ],
   "source": [
    "a = 5\n",
    "b = 5\n",
    "c = 6\n",
    "print(a is b)    #5 is object created once both a and b points to same object\n",
    "#if id(a) equals id(b) result is True \n",
    "print(id(a),id(b),id(6))\n",
    "#isnot\n",
    "print( c is not b)\n",
    "print( a is not b)"
   ]
  },
  {
   "cell_type": "code",
   "execution_count": 7,
   "metadata": {},
   "outputs": [
    {
     "name": "stdout",
     "output_type": "stream",
     "text": [
      "False\n"
     ]
    }
   ],
   "source": [
    "l1 = [1, 2, 3]\n",
    "l2 = [1, 2, 3]\n",
    "print(l1 is l2)"
   ]
  },
  {
   "cell_type": "code",
   "execution_count": 8,
   "metadata": {},
   "outputs": [
    {
     "name": "stdout",
     "output_type": "stream",
     "text": [
      "True\n"
     ]
    }
   ],
   "source": [
    "s1 = \"Buddha\"\n",
    "s2 = \"buddha\"\n",
    "print(s1 is not s2)"
   ]
  },
  {
   "cell_type": "markdown",
   "metadata": {},
   "source": [
    "# MemberShip Operators"
   ]
  },
  {
   "cell_type": "markdown",
   "metadata": {},
   "source": [
    "**in and not in** are the membership operators in Python. \n",
    "    \n",
    "They are used to test whether a value or variable is found in a sequence (string, list, tuple, set and   dictionary)."
   ]
  },
  {
   "cell_type": "code",
   "execution_count": 9,
   "metadata": {},
   "outputs": [
    {
     "name": "stdout",
     "output_type": "stream",
     "text": [
      "True\n",
      "True\n",
      "False\n"
     ]
    }
   ],
   "source": [
    "lst = [1, 2, 3, 4]\n",
    "print(1 in lst)       # 1 is present in a given list or not\n",
    "print(2 in lst)\n",
    "print(5 in lst)\n"
   ]
  },
  {
   "cell_type": "code",
   "execution_count": 10,
   "metadata": {},
   "outputs": [
    {
     "name": "stdout",
     "output_type": "stream",
     "text": [
      "True\n"
     ]
    }
   ],
   "source": [
    "d = {1: \"a\", 2: \"b\"}\n",
    "print(1 in d)"
   ]
  },
  {
   "cell_type": "code",
   "execution_count": 11,
   "metadata": {},
   "outputs": [
    {
     "name": "stdout",
     "output_type": "stream",
     "text": [
      "False\n"
     ]
    }
   ],
   "source": [
    "print(3 in d)"
   ]
  }
 ],
 "metadata": {
  "kernelspec": {
   "display_name": "Python 3 (ipykernel)",
   "language": "python",
   "name": "python3"
  },
  "language_info": {
   "codemirror_mode": {
    "name": "ipython",
    "version": 3
   },
   "file_extension": ".py",
   "mimetype": "text/x-python",
   "name": "python",
   "nbconvert_exporter": "python",
   "pygments_lexer": "ipython3",
   "version": "3.9.12"
  }
 },
 "nbformat": 4,
 "nbformat_minor": 2
}
