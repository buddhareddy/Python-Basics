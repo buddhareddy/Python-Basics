{
 "cells": [
  {
   "cell_type": "markdown",
   "metadata": {},
   "source": [
    "# Break , Continue and Pass"
   ]
  },
  {
   "cell_type": "raw",
   "metadata": {},
   "source": [
    "In Python, break and continue are loop control statements executed inside a loop. \n",
    "These statements either skip according to the conditions inside the loop or terminate the loop execution at some point."
   ]
  },
  {
   "cell_type": "markdown",
   "metadata": {},
   "source": [
    "# Break"
   ]
  },
  {
   "cell_type": "raw",
   "metadata": {},
   "source": [
    "Break statement is used inside both the (while and for) loops. \n",
    "It terminates the loop immediately and transfers execution to the new statement after the loop"
   ]
  },
  {
   "cell_type": "code",
   "execution_count": 1,
   "metadata": {},
   "outputs": [
    {
     "name": "stdout",
     "output_type": "stream",
     "text": [
      "0\n",
      "1\n",
      "2\n",
      "3\n",
      "4\n",
      "5\n",
      "6\n",
      "7\n",
      "8\n",
      "9\n"
     ]
    }
   ],
   "source": [
    "for i in range(10):\n",
    "    print(i)"
   ]
  },
  {
   "cell_type": "code",
   "execution_count": 2,
   "metadata": {},
   "outputs": [
    {
     "name": "stdout",
     "output_type": "stream",
     "text": [
      "0\n",
      "1\n",
      "2\n",
      "3\n",
      "4\n",
      "5\n",
      "processing is enough.. break the executuion\n"
     ]
    }
   ],
   "source": [
    "for i in range(10):\n",
    "    if i==6:\n",
    "        print(\"processing is enough.. break the executuion\")\n",
    "        break\n",
    "    print(i)"
   ]
  },
  {
   "cell_type": "code",
   "execution_count": 9,
   "metadata": {},
   "outputs": [
    {
     "name": "stdout",
     "output_type": "stream",
     "text": [
      "15 is Not a prime because its divisble by 3\n"
     ]
    }
   ],
   "source": [
    "num=15\n",
    "isdivisble=False\n",
    "i=2\n",
    "while i <num:\n",
    "    if num%i==0:\n",
    "        isdivisble=True\n",
    "        \n",
    "        break\n",
    "    i+=1\n",
    "if isdivisble:\n",
    "    print(\"{} is Not a prime because its divisble by {}\".format(num,i))\n",
    "else:\n",
    "    print(\"{} is a prime number\".format(num))\n",
    "# check for num for 4,5,11 also"
   ]
  },
  {
   "cell_type": "code",
   "execution_count": 10,
   "metadata": {},
   "outputs": [
    {
     "data": {
      "text/plain": [
       "list"
      ]
     },
     "execution_count": 10,
     "metadata": {},
     "output_type": "execute_result"
    }
   ],
   "source": [
    "cart=[10,20,600,60,70]\n",
    "type(cart)"
   ]
  },
  {
   "cell_type": "code",
   "execution_count": 11,
   "metadata": {},
   "outputs": [
    {
     "data": {
      "text/plain": [
       "[10, 20, 600, 60, 70]"
      ]
     },
     "execution_count": 11,
     "metadata": {},
     "output_type": "execute_result"
    }
   ],
   "source": [
    "cart"
   ]
  },
  {
   "cell_type": "code",
   "execution_count": 12,
   "metadata": {},
   "outputs": [
    {
     "name": "stdout",
     "output_type": "stream",
     "text": [
      "10\n",
      "20\n",
      "order is exceeding\n"
     ]
    }
   ],
   "source": [
    "for i in cart:\n",
    "    if i>500: # store can deliver less than 500 budget price only\n",
    "        print(\"order is exceeding\")\n",
    "        break\n",
    "    print(i)"
   ]
  },
  {
   "cell_type": "markdown",
   "metadata": {},
   "source": [
    "# Continue"
   ]
  },
  {
   "cell_type": "raw",
   "metadata": {},
   "source": [
    "The continue statement causes the loop to skip its current execution at some point and move on to the next iteration. \n",
    "Instead of terminating the loop like a break statement, it moves on to the subsequent execution."
   ]
  },
  {
   "cell_type": "code",
   "execution_count": 15,
   "metadata": {
    "scrolled": true
   },
   "outputs": [
    {
     "name": "stdout",
     "output_type": "stream",
     "text": [
      "10\n",
      "20\n",
      "60\n",
      "70\n"
     ]
    }
   ],
   "source": [
    "for i in cart:\n",
    "    if i>=500:\n",
    "        #print(\"order is exceeding at\", i)\n",
    "        continue\n",
    "    print(i)"
   ]
  },
  {
   "cell_type": "code",
   "execution_count": 16,
   "metadata": {},
   "outputs": [
    {
     "data": {
      "text/plain": [
       "0"
      ]
     },
     "execution_count": 16,
     "metadata": {},
     "output_type": "execute_result"
    }
   ],
   "source": [
    "2%2"
   ]
  },
  {
   "cell_type": "markdown",
   "metadata": {},
   "source": [
    "# To print odd numbers in range 0 to 9"
   ]
  },
  {
   "cell_type": "code",
   "execution_count": 21,
   "metadata": {},
   "outputs": [
    {
     "name": "stdout",
     "output_type": "stream",
     "text": [
      "odd numbers are 1\n",
      "odd numbers are 3\n",
      "odd numbers are 5\n",
      "odd numbers are 7\n",
      "odd numbers are 9\n"
     ]
    }
   ],
   "source": [
    "\n",
    "for i in range(10):\n",
    "    if i%2==0:\n",
    "         continue\n",
    "    print('odd numbers are',i)"
   ]
  },
  {
   "cell_type": "markdown",
   "metadata": {},
   "source": [
    "# loops with else blocks"
   ]
  },
  {
   "cell_type": "raw",
   "metadata": {},
   "source": [
    "# inside the loop execution if break stmt not executed then only else part will be executed"
   ]
  },
  {
   "cell_type": "code",
   "execution_count": 22,
   "metadata": {},
   "outputs": [],
   "source": [
    "cart=[10,200,30,40,50]"
   ]
  },
  {
   "cell_type": "code",
   "execution_count": 23,
   "metadata": {},
   "outputs": [
    {
     "data": {
      "text/plain": [
       "False"
      ]
     },
     "execution_count": 23,
     "metadata": {},
     "output_type": "execute_result"
    }
   ],
   "source": [
    "50 >= 500"
   ]
  },
  {
   "cell_type": "code",
   "execution_count": 24,
   "metadata": {},
   "outputs": [
    {
     "name": "stdout",
     "output_type": "stream",
     "text": [
      "10\n",
      "200\n",
      "30\n",
      "40\n",
      "50\n",
      "congrats\n"
     ]
    }
   ],
   "source": [
    "for item in cart:\n",
    "    if item >= 500:\n",
    "        print('we cant process the order execceds 501')\n",
    "        break\n",
    "    print(item)\n",
    "else:\n",
    "        print('congrats')"
   ]
  },
  {
   "cell_type": "code",
   "execution_count": 25,
   "metadata": {},
   "outputs": [],
   "source": [
    "## difference between for loop and while loop\n",
    "## how to exit the loop\n",
    "## to skip some iterations "
   ]
  },
  {
   "cell_type": "markdown",
   "metadata": {},
   "source": [
    "# pass statement"
   ]
  },
  {
   "cell_type": "raw",
   "metadata": {},
   "source": [
    "pass is a keyword\n",
    "in programmicatical manner if a block is required which wont do anything then we can define that empty block \n"
   ]
  },
  {
   "cell_type": "code",
   "execution_count": 26,
   "metadata": {},
   "outputs": [
    {
     "name": "stdout",
     "output_type": "stream",
     "text": [
      "0\n",
      "9\n",
      "18\n",
      "27\n",
      "36\n",
      "45\n",
      "54\n",
      "63\n",
      "72\n",
      "81\n",
      "90\n",
      "99\n"
     ]
    }
   ],
   "source": [
    "for i in range(100):\n",
    "    if i%9==0:\n",
    "        print(i)\n",
    "    else: pass"
   ]
  }
 ],
 "metadata": {
  "kernelspec": {
   "display_name": "Python 3 (ipykernel)",
   "language": "python",
   "name": "python3"
  },
  "language_info": {
   "codemirror_mode": {
    "name": "ipython",
    "version": 3
   },
   "file_extension": ".py",
   "mimetype": "text/x-python",
   "name": "python",
   "nbconvert_exporter": "python",
   "pygments_lexer": "ipython3",
   "version": "3.9.12"
  }
 },
 "nbformat": 4,
 "nbformat_minor": 2
}
